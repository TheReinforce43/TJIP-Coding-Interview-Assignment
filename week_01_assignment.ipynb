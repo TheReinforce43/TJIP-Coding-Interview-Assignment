{
 "cells": [
  {
   "cell_type": "markdown",
   "metadata": {},
   "source": [
    "1. Two Sum"
   ]
  },
  {
   "cell_type": "code",
   "execution_count": null,
   "metadata": {},
   "outputs": [],
   "source": [
    "# Time Complexity : 0(N)\n",
    "# Space Complexity : 0(1)\n",
    "\n",
    "class Solution:\n",
    "    def twoSum(self, nums: List[int], target: int) -> List[int]:\n",
    "\n",
    "        index=dict()\n",
    "        index[nums[0]]=0\n",
    "\n",
    "        for i in range(1,len(nums)):\n",
    "            temp = target - nums[i]\n",
    "            if temp in  index:\n",
    "                return [ index[temp], i ]\n",
    "            else:\n",
    "                index[nums[i]]=i\n",
    "        return []\n",
    "    "
   ]
  },
  {
   "cell_type": "markdown",
   "metadata": {},
   "source": [
    "121. Best Time to Buy and Sell Stock"
   ]
  },
  {
   "cell_type": "code",
   "execution_count": null,
   "metadata": {},
   "outputs": [],
   "source": [
    "# Time Complexity : 0(N)\n",
    "# Space Complexity : 0(1)\n",
    "\n",
    "class Solution:\n",
    "    def maxProfit(self, nums: List[int]) -> int:\n",
    "        min_value = nums[0]\n",
    "        profit=0\n",
    "\n",
    "        for i in range(1,len(nums)):\n",
    "            if min_value > nums[i] :\n",
    "                min_value= nums[i]\n",
    "            else:\n",
    "                profit= max(profit, nums[i] - min_value)\n",
    "\n",
    "        return profit\n",
    "\n",
    "       \n",
    "       "
   ]
  },
  {
   "cell_type": "markdown",
   "metadata": {},
   "source": [
    "283. Move Zeroes"
   ]
  },
  {
   "cell_type": "code",
   "execution_count": null,
   "metadata": {},
   "outputs": [],
   "source": [
    "# Time Complexity : 0(N)\n",
    "# Space Complexity : 0(1)\n",
    "\n",
    "class Solution:\n",
    "    def moveZeroes(self, nums: List[int]) -> None:\n",
    "        \"\"\"\n",
    "        Do not return anything, modify nums in-place instead.\n",
    "        \"\"\"\n",
    "        l=0\n",
    "        for r in range(len(nums)):\n",
    "            if nums[r]!=0 :\n",
    "                nums[l],nums[r]=nums[r],nums[l]\n",
    "                l+=1\n",
    "        "
   ]
  },
  {
   "cell_type": "markdown",
   "metadata": {},
   "source": [
    "169. Majority Element"
   ]
  },
  {
   "cell_type": "code",
   "execution_count": null,
   "metadata": {},
   "outputs": [],
   "source": [
    "# Time Complexity : 0(N)\n",
    "# Space Complexity : 0(1)\n",
    "\n",
    "class Solution:\n",
    "    def majorityElement(self, nums: List[int]) -> int:\n",
    "        candidate=None \n",
    "        count =0\n",
    "\n",
    "        for value in nums:\n",
    "\n",
    "            if count==0:\n",
    "                candidate=value\n",
    "            \n",
    "            count+=1 if candidate==value else -1\n",
    "        return candidate"
   ]
  },
  {
   "cell_type": "markdown",
   "metadata": {},
   "source": [
    "88. Merge Sorted Array"
   ]
  },
  {
   "cell_type": "code",
   "execution_count": null,
   "metadata": {},
   "outputs": [],
   "source": [
    "# Time Complexity : O(M+N)\n",
    "# Space Complexity : O(M+N)\n",
    "\n",
    "class Solution:\n",
    "    def merge(self, nums1: List[int], m: int, nums2: List[int], n: int) -> None:\n",
    "        \"\"\"\n",
    "        Do not return anything, modify nums1 in-place instead.\n",
    "        \"\"\"\n",
    "\n",
    "        i,j=0,0\n",
    "        ans=[]\n",
    "\n",
    "        while i<m and j<n :\n",
    "            if nums1[i]<= nums2[j] :\n",
    "                ans.append(nums1[i])\n",
    "                i+=1\n",
    "            else:\n",
    "                ans.append(nums2[j])\n",
    "                j+=1\n",
    "\n",
    "        while i<m:\n",
    "            ans.append(nums1[i])\n",
    "            i+=1\n",
    "        while j<n :\n",
    "            ans.append(nums2[j])\n",
    "            j+=1\n",
    "        \n",
    "        for k in range(len(ans)):\n",
    "            nums1[k]=ans[k]\n",
    "\n",
    "\n",
    "        "
   ]
  },
  {
   "cell_type": "markdown",
   "metadata": {},
   "source": [
    "136. Single Number"
   ]
  },
  {
   "cell_type": "code",
   "execution_count": null,
   "metadata": {},
   "outputs": [],
   "source": [
    "# Time Complexity : 0(N)\n",
    "# Space Complexity : 0(1)\n",
    "\n",
    "class Solution:\n",
    "    def singleNumber(self, nums: List[int]) -> int:\n",
    "\n",
    "        result=0 \n",
    "\n",
    "        for value in nums:\n",
    "            result^=value\n",
    "        return result\n",
    "        "
   ]
  },
  {
   "cell_type": "markdown",
   "metadata": {},
   "source": [
    "122. Best Time to Buy and Sell Stock II"
   ]
  },
  {
   "cell_type": "code",
   "execution_count": null,
   "metadata": {},
   "outputs": [],
   "source": [
    "# Time Complexity : 0(N)\n",
    "# Space Complexity : 0(1)\n",
    "class Solution:\n",
    "    def maxProfit(self, nums: List[int]) -> int:\n",
    "        profit =0\n",
    "\n",
    "        for i in range(1,len(nums)):\n",
    "            if nums[i] >  nums[i-1]:\n",
    "                profit+=(nums[i]- nums[i-1])\n",
    "                \n",
    "        return profit\n",
    "        "
   ]
  },
  {
   "cell_type": "markdown",
   "metadata": {},
   "source": [
    "15. 3Sum"
   ]
  },
  {
   "cell_type": "code",
   "execution_count": null,
   "metadata": {},
   "outputs": [],
   "source": [
    "# Time Complexity : 0(NlogN)\n",
    "# Space Complexity : 0(N)\n",
    "\n",
    "class Solution:\n",
    "    def threeSum(self, nums: List[int]) -> List[List[int]]:\n",
    "        nums.sort()\n",
    "        ans=[]\n",
    "        i=0\n",
    "        n=len( nums)\n",
    "        while i<n:\n",
    "        \n",
    "            while nums[i]==nums[i+1] and i<n:\n",
    "                i+=1\n",
    "            l=i+1\n",
    "            r=len(nums) -1\n",
    "            target=-nums[i]\n",
    "            \n",
    "            while l < r:\n",
    "                while nums[l]==nums[l+1] and l< r:\n",
    "                    l+=1\n",
    "                while nums[r]==nums[r-1] and l<r:\n",
    "                    r-=1\n",
    "                if nums[l] + nums[r] ==target:\n",
    "                    ans.extend([nums[i],nums[l], nums[r]])\n",
    "                    l+=1\n",
    "                    r-=1\n",
    "                elif nums[l] + nums[r] >0:\n",
    "                    r-=1\n",
    "                else:\n",
    "                    l+=1\n",
    "            i+1\n",
    "       \n",
    "\n",
    "        return ans"
   ]
  },
  {
   "cell_type": "markdown",
   "metadata": {},
   "source": [
    "128. Longest Consecutive Sequence"
   ]
  },
  {
   "cell_type": "code",
   "execution_count": null,
   "metadata": {},
   "outputs": [],
   "source": [
    "# Time Complexity : 0(N)\n",
    "# Space Complexity : 0(N)\n",
    "\n",
    "class Solution:\n",
    "    def longestConsecutive(self, nums: List[int]) -> int:\n",
    "        set_value= set(nums)\n",
    "        ans=0\n",
    "        for x in nums:\n",
    "            if x-1 not in set_value:\n",
    "                y=x+1\n",
    "                while y in set_value:\n",
    "                    y+=1\n",
    "                ans=max(ans,y-x)\n",
    "        return ans"
   ]
  },
  {
   "cell_type": "markdown",
   "metadata": {},
   "source": [
    "380. Insert Delete GetRandom O(1)"
   ]
  },
  {
   "cell_type": "code",
   "execution_count": 1,
   "metadata": {},
   "outputs": [],
   "source": [
    "# Time Complexity : \n",
    "# Space Complexity :\n",
    "\n",
    "import random \n",
    "class RandomizedSet:\n",
    "\n",
    "    \n",
    "    def __init__(self):\n",
    "        self.rlist=[]\n",
    "        self.ans_set={}   \n",
    "        \n",
    "\n",
    "    def insert(self, val: int) -> bool:\n",
    "        if val in self.ans_set:\n",
    "            return False \n",
    "        self.ans_set[val]=1\n",
    "        self.rlist.append(val)\n",
    "        return True \n",
    "        \n",
    "\n",
    "    def remove(self, val: int) -> bool:\n",
    "        if val  not in self.ans_set:\n",
    "            return False \n",
    "        \n",
    "        del self.ans_set[val]\n",
    "        self.rlist.remove(val)\n",
    "\n",
    "        return True\n",
    "        \n",
    "\n",
    "    def getRandom(self) -> int:\n",
    "      \n",
    "        return   random.choice(self.rlist)\n",
    "        \n"
   ]
  }
 ],
 "metadata": {
  "kernelspec": {
   "display_name": "Python 3",
   "language": "python",
   "name": "python3"
  },
  "language_info": {
   "codemirror_mode": {
    "name": "ipython",
    "version": 3
   },
   "file_extension": ".py",
   "mimetype": "text/x-python",
   "name": "python",
   "nbconvert_exporter": "python",
   "pygments_lexer": "ipython3",
   "version": "3.12.4"
  }
 },
 "nbformat": 4,
 "nbformat_minor": 2
}
